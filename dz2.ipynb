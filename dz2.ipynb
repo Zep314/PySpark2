{
  "nbformat": 4,
  "nbformat_minor": 0,
  "metadata": {
    "colab": {
      "provenance": []
    },
    "kernelspec": {
      "name": "python3",
      "display_name": "Python 3"
    },
    "language_info": {
      "name": "python"
    }
  },
  "cells": [
    {
      "cell_type": "markdown",
      "source": [
        "# **Spark Apache (Семинары)**\n",
        "## **Урок 2. Инструменты работы и визуализации ч.1**\n",
        "### Задание:\n",
        "1. Условие: Дана таблица с колонками (id, name, salary, managerId), студентам необходимо написать код на spark, который создаст эту таблицу (данные указаны ниже) и в результате выдаст таблицу в которой будут имена сотрудников, которые зарабатывают больше своих менеджеров"
      ],
      "metadata": {
        "id": "5JsRfAhHS5Dt"
      }
    },
    {
      "cell_type": "markdown",
      "source": [
        "Данные для таблицы:"
      ],
      "metadata": {
        "id": "Vxa26SwTB3e1"
      }
    },
    {
      "cell_type": "code",
      "source": [
        "# Данные для задания\n",
        "data = {'id':[1, 2, 3, 4], 'Name': ['Joe', 'Henry', 'Sam', 'Max'],\n",
        "        'Salary': ['70', '80', '60', '90'], 'ManagerId': ['3', '4', 'Null', 'Null']}"
      ],
      "metadata": {
        "id": "e1uDrS-aBIr7"
      },
      "execution_count": 55,
      "outputs": []
    },
    {
      "cell_type": "code",
      "execution_count": 56,
      "metadata": {
        "id": "Hiavxv0USrdw",
        "colab": {
          "base_uri": "https://localhost:8080/"
        },
        "outputId": "0e72bd8f-2fd8-4e9d-8f80-c4225ea1f1fb"
      },
      "outputs": [
        {
          "output_type": "stream",
          "name": "stdout",
          "text": [
            "Requirement already satisfied: pyspark in /usr/local/lib/python3.10/dist-packages (3.5.1)\n",
            "Requirement already satisfied: py4j==0.10.9.7 in /usr/local/lib/python3.10/dist-packages (from pyspark) (0.10.9.7)\n"
          ]
        }
      ],
      "source": [
        "! pip install pyspark"
      ]
    },
    {
      "cell_type": "code",
      "source": [
        "# Установка требуемых модулей\n",
        "from pyspark.sql import SparkSession\n",
        "from pyspark.sql.functions import col\n",
        "import pandas as pd"
      ],
      "metadata": {
        "id": "RU5Se9oQDEYV"
      },
      "execution_count": 57,
      "outputs": []
    },
    {
      "cell_type": "code",
      "source": [
        "# Установка сессии spark\n",
        "spark = SparkSession.builder.appName('AggregateTable').getOrCreate()\n",
        "\n",
        "# Создаем таблицу\n",
        "df_spark = spark.createDataFrame(pd.DataFrame(data))\n",
        "\n",
        "# Конвертируем данные (string -> int)\n",
        "df_spark = df_spark.withColumn('Salary',df_spark['Salary'].cast('int'))\n",
        "df_spark = df_spark.withColumn('ManagerId',df_spark['ManagerId'].cast('int'))\n",
        "\n",
        "# Смотрим результат\n",
        "df_spark.show()"
      ],
      "metadata": {
        "colab": {
          "base_uri": "https://localhost:8080/"
        },
        "id": "65Rk6uLFDIUx",
        "outputId": "36aa3fc9-c080-4eef-9aa2-cc784b4f97c3"
      },
      "execution_count": 58,
      "outputs": [
        {
          "output_type": "stream",
          "name": "stdout",
          "text": [
            "+---+-----+------+---------+\n",
            "| id| Name|Salary|ManagerId|\n",
            "+---+-----+------+---------+\n",
            "|  1|  Joe|    70|        3|\n",
            "|  2|Henry|    80|        4|\n",
            "|  3|  Sam|    60|     NULL|\n",
            "|  4|  Max|    90|     NULL|\n",
            "+---+-----+------+---------+\n",
            "\n"
          ]
        }
      ]
    },
    {
      "cell_type": "code",
      "source": [
        "# Обработка данных по заданию\n",
        "df_result = df_spark.alias('a').join(df_spark.alias('b')['id', 'Salary'].withColumnRenamed(\"Salary\", \"Salary_b\"), \\\n",
        "                                     col('a.ManagerId') == col('b.id'), \\\n",
        "                                     'inner') \\\n",
        "                               .filter('Salary > Salary_b') \\\n",
        "                               .select(['a.Name'])\n",
        "df_result.show()"
      ],
      "metadata": {
        "colab": {
          "base_uri": "https://localhost:8080/"
        },
        "id": "nxDISVV9Fj2j",
        "outputId": "1e67bb60-1e86-4037-ad33-dc5d071c4bbb"
      },
      "execution_count": 59,
      "outputs": [
        {
          "output_type": "stream",
          "name": "stdout",
          "text": [
            "+----+\n",
            "|Name|\n",
            "+----+\n",
            "| Joe|\n",
            "+----+\n",
            "\n"
          ]
        }
      ]
    },
    {
      "cell_type": "code",
      "source": [
        "spark.stop()"
      ],
      "metadata": {
        "id": "yDc6_rWmMWWc"
      },
      "execution_count": 60,
      "outputs": []
    }
  ]
}