{
  "nbformat": 4,
  "nbformat_minor": 0,
  "metadata": {
    "colab": {
      "provenance": []
    },
    "kernelspec": {
      "name": "python3",
      "display_name": "Python 3"
    },
    "language_info": {
      "name": "python"
    }
  },
  "cells": [
    {
      "cell_type": "markdown",
      "source": [
        "# **Spark Apache (Семинары)**\n",
        "## **Урок 2. Инструменты работы и визуализации ч.1**\n",
        "### Задание:\n",
        "1. Условие: Дана таблица с колонками (id, name, salary, managerId), студентам необходимо написать код на spark, который создаст эту таблицу (данные указаны ниже) и в результате выдаст таблицу в которой будут имена сотрудников, которые зарабатывают больше своих менеджеров"
      ],
      "metadata": {
        "id": "5JsRfAhHS5Dt"
      }
    },
    {
      "cell_type": "markdown",
      "source": [
        "Данные для таблицы:"
      ],
      "metadata": {
        "id": "Vxa26SwTB3e1"
      }
    },
    {
      "cell_type": "code",
      "source": [
        "# Данные для задания\n",
        "data = {'id':[1, 2, 3, 4], 'Name': ['Joe', 'Henry', 'Sam', 'Max'],\n",
        "        'Salary': ['70', '80', '60', '90'], 'ManagerId': ['3', '4', 'Null', 'Null']}"
      ],
      "metadata": {
        "id": "e1uDrS-aBIr7"
      },
      "execution_count": 1,
      "outputs": []
    },
    {
      "cell_type": "code",
      "execution_count": 2,
      "metadata": {
        "id": "Hiavxv0USrdw",
        "colab": {
          "base_uri": "https://localhost:8080/"
        },
        "outputId": "b8677f17-85ac-4244-f67e-ea238893ddab"
      },
      "outputs": [
        {
          "output_type": "stream",
          "name": "stdout",
          "text": [
            "Collecting pyspark\n",
            "  Downloading pyspark-3.5.1.tar.gz (317.0 MB)\n",
            "\u001b[2K     \u001b[90m━━━━━━━━━━━━━━━━━━━━━━━━━━━━━━━━━━━━━━━━\u001b[0m \u001b[32m317.0/317.0 MB\u001b[0m \u001b[31m1.4 MB/s\u001b[0m eta \u001b[36m0:00:00\u001b[0m\n",
            "\u001b[?25h  Preparing metadata (setup.py) ... \u001b[?25l\u001b[?25hdone\n",
            "Requirement already satisfied: py4j==0.10.9.7 in /usr/local/lib/python3.10/dist-packages (from pyspark) (0.10.9.7)\n",
            "Building wheels for collected packages: pyspark\n",
            "  Building wheel for pyspark (setup.py) ... \u001b[?25l\u001b[?25hdone\n",
            "  Created wheel for pyspark: filename=pyspark-3.5.1-py2.py3-none-any.whl size=317488491 sha256=1b5d6bda3c2a4735ea54fc269fc0d37b62d3045694fc73c3b41d3ec6ab677281\n",
            "  Stored in directory: /root/.cache/pip/wheels/80/1d/60/2c256ed38dddce2fdd93be545214a63e02fbd8d74fb0b7f3a6\n",
            "Successfully built pyspark\n",
            "Installing collected packages: pyspark\n",
            "Successfully installed pyspark-3.5.1\n"
          ]
        }
      ],
      "source": [
        "! pip install pyspark"
      ]
    },
    {
      "cell_type": "code",
      "source": [
        "# Установка требуемых модулей\n",
        "from pyspark.sql import SparkSession\n",
        "from pyspark.sql.functions import col\n",
        "import pandas as pd"
      ],
      "metadata": {
        "id": "RU5Se9oQDEYV"
      },
      "execution_count": 3,
      "outputs": []
    },
    {
      "cell_type": "code",
      "source": [
        "# Установка сессии spark\n",
        "spark = SparkSession.builder.appName('AggregateTable').getOrCreate()\n",
        "\n",
        "# Создаем таблицу\n",
        "df_spark = spark.createDataFrame(pd.DataFrame(data))\n",
        "\n",
        "# Конвертируем данные (string -> int)\n",
        "df_spark = df_spark.withColumn('Salary',df_spark['Salary'].cast('int'))\n",
        "df_spark = df_spark.withColumn('ManagerId',df_spark['ManagerId'].cast('int'))\n",
        "\n",
        "# Смотрим результат\n",
        "df_spark.show()"
      ],
      "metadata": {
        "colab": {
          "base_uri": "https://localhost:8080/"
        },
        "id": "65Rk6uLFDIUx",
        "outputId": "f4531279-940a-41f1-9217-4ee3a78aa798"
      },
      "execution_count": 4,
      "outputs": [
        {
          "output_type": "stream",
          "name": "stdout",
          "text": [
            "+---+-----+------+---------+\n",
            "| id| Name|Salary|ManagerId|\n",
            "+---+-----+------+---------+\n",
            "|  1|  Joe|    70|        3|\n",
            "|  2|Henry|    80|        4|\n",
            "|  3|  Sam|    60|     NULL|\n",
            "|  4|  Max|    90|     NULL|\n",
            "+---+-----+------+---------+\n",
            "\n"
          ]
        }
      ]
    },
    {
      "cell_type": "code",
      "source": [
        "# Обработка данных по заданию\n",
        "df_result = df_spark.alias('a').join(df_spark.alias('b')['id', 'Salary'].withColumnRenamed(\"Salary\", \"Salary_b\"), \\\n",
        "                                     col('a.ManagerId') == col('b.id'), \\\n",
        "                                     'inner') \\\n",
        "                               .filter('Salary > Salary_b') \\\n",
        "                               .select(['a.Name'])\n",
        "df_result.show()"
      ],
      "metadata": {
        "colab": {
          "base_uri": "https://localhost:8080/"
        },
        "id": "nxDISVV9Fj2j",
        "outputId": "11c06b8b-3b9e-4bd8-8c2c-8c3b3e96dd40"
      },
      "execution_count": 15,
      "outputs": [
        {
          "output_type": "stream",
          "name": "stdout",
          "text": [
            "+----+\n",
            "|Name|\n",
            "+----+\n",
            "| Joe|\n",
            "+----+\n",
            "\n"
          ]
        }
      ]
    },
    {
      "cell_type": "code",
      "source": [
        "spark.stop()"
      ],
      "metadata": {
        "id": "yDc6_rWmMWWc"
      },
      "execution_count": 8,
      "outputs": []
    },
    {
      "cell_type": "markdown",
      "source": [
        "\n",
        "\n",
        "---\n",
        "\n",
        "---\n",
        "\n",
        "---"
      ],
      "metadata": {
        "id": "CNDhvMVzXbhZ"
      }
    },
    {
      "cell_type": "markdown",
      "source": [
        "#**Пояснения к проделанной работе**"
      ],
      "metadata": {
        "id": "vrI-tPVSXgFI"
      }
    },
    {
      "cell_type": "markdown",
      "source": [
        "Изначальная таблица данных:"
      ],
      "metadata": {
        "id": "BMuJNv-DXqE5"
      }
    },
    {
      "cell_type": "code",
      "source": [
        "# Установка сессии spark\n",
        "spark = SparkSession.builder.appName('AggregateTable').getOrCreate()\n",
        "# Создаем таблицу\n",
        "df_spark = spark.createDataFrame(pd.DataFrame(data))\n",
        "# Конвертируем данные (string -> int)\n",
        "df_spark = df_spark.withColumn('Salary',df_spark['Salary'].cast('int'))\n",
        "df_spark = df_spark.withColumn('ManagerId',df_spark['ManagerId'].cast('int'))\n",
        "# Смотрим результат\n",
        "df_spark.show()"
      ],
      "metadata": {
        "id": "gQlKuu1i_Rwj",
        "colab": {
          "base_uri": "https://localhost:8080/"
        },
        "outputId": "4381e3d3-83e7-4b5d-e81b-6e8e5fa28075"
      },
      "execution_count": 9,
      "outputs": [
        {
          "output_type": "stream",
          "name": "stdout",
          "text": [
            "+---+-----+------+---------+\n",
            "| id| Name|Salary|ManagerId|\n",
            "+---+-----+------+---------+\n",
            "|  1|  Joe|    70|        3|\n",
            "|  2|Henry|    80|        4|\n",
            "|  3|  Sam|    60|     NULL|\n",
            "|  4|  Max|    90|     NULL|\n",
            "+---+-----+------+---------+\n",
            "\n"
          ]
        }
      ]
    },
    {
      "cell_type": "code",
      "source": [
        "# Объединяем таблицу саму с собой по полям id = ManagerId. Тип объединения inner\n",
        "df_result = df_spark.alias('a').join(df_spark.alias('b')['id', 'Salary'].withColumnRenamed(\"Salary\", \"Salary_b\"), \\\n",
        "                                     col('a.ManagerId') == col('b.id'), \\\n",
        "                                     'inner')\n",
        "df_result.show()"
      ],
      "metadata": {
        "colab": {
          "base_uri": "https://localhost:8080/"
        },
        "id": "tvduFjw4XxNv",
        "outputId": "e7df1bf3-f10e-46d1-b616-be8dd208500f"
      },
      "execution_count": 12,
      "outputs": [
        {
          "output_type": "stream",
          "name": "stdout",
          "text": [
            "+---+-----+------+---------+---+--------+\n",
            "| id| Name|Salary|ManagerId| id|Salary_b|\n",
            "+---+-----+------+---------+---+--------+\n",
            "|  1|  Joe|    70|        3|  3|      60|\n",
            "|  2|Henry|    80|        4|  4|      90|\n",
            "+---+-----+------+---------+---+--------+\n",
            "\n"
          ]
        }
      ]
    },
    {
      "cell_type": "markdown",
      "source": [
        "Строки с ID равными 3 и 4 не вошли в результирующую выборку. Осталось 2 строки."
      ],
      "metadata": {
        "id": "YChncrCWYWQZ"
      }
    },
    {
      "cell_type": "markdown",
      "source": [
        "Далее (по условию задачи) - смотрим на строки, в которых Salary > Salary_b"
      ],
      "metadata": {
        "id": "JU1K_6VZYhmW"
      }
    },
    {
      "cell_type": "code",
      "source": [
        "df_result = df_spark.alias('a').join(df_spark.alias('b')['id', 'Salary'].withColumnRenamed(\"Salary\", \"Salary_b\"), \\\n",
        "                                     col('a.ManagerId') == col('b.id'), \\\n",
        "                                     'inner') \\\n",
        "                               .filter('Salary > Salary_b')\n",
        "df_result.show()"
      ],
      "metadata": {
        "colab": {
          "base_uri": "https://localhost:8080/"
        },
        "id": "qOiBvyFMYP_P",
        "outputId": "19ee944b-7eef-4373-d58e-c0bdda196681"
      },
      "execution_count": 14,
      "outputs": [
        {
          "output_type": "stream",
          "name": "stdout",
          "text": [
            "+---+----+------+---------+---+--------+\n",
            "| id|Name|Salary|ManagerId| id|Salary_b|\n",
            "+---+----+------+---------+---+--------+\n",
            "|  1| Joe|    70|        3|  3|      60|\n",
            "+---+----+------+---------+---+--------+\n",
            "\n"
          ]
        }
      ]
    },
    {
      "cell_type": "markdown",
      "source": [
        "Остается одна строка с требуемой записью. Из нее (по условию задачи) выбираем поле Name"
      ],
      "metadata": {
        "id": "fU_qvtHNYySK"
      }
    },
    {
      "cell_type": "code",
      "source": [
        "df_result = df_spark.alias('a').join(df_spark.alias('b')['id', 'Salary'].withColumnRenamed(\"Salary\", \"Salary_b\"), \\\n",
        "                                     col('a.ManagerId') == col('b.id'), \\\n",
        "                                     'inner') \\\n",
        "                               .filter('Salary > Salary_b') \\\n",
        "                               .select(['a.Name'])\n",
        "df_result.show()"
      ],
      "metadata": {
        "colab": {
          "base_uri": "https://localhost:8080/"
        },
        "id": "qCInZ3MTYwNo",
        "outputId": "738c2e6f-7f24-482c-a9c4-8c74c9bab64a"
      },
      "execution_count": 16,
      "outputs": [
        {
          "output_type": "stream",
          "name": "stdout",
          "text": [
            "+----+\n",
            "|Name|\n",
            "+----+\n",
            "| Joe|\n",
            "+----+\n",
            "\n"
          ]
        }
      ]
    },
    {
      "cell_type": "markdown",
      "source": [
        "Получаем требуемый результат."
      ],
      "metadata": {
        "id": "llaKwsVZZJbb"
      }
    },
    {
      "cell_type": "code",
      "source": [
        "spark.stop()"
      ],
      "metadata": {
        "id": "YmDvhlxFZSGf"
      },
      "execution_count": 18,
      "outputs": []
    }
  ]
}